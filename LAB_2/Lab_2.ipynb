{
 "cells": [
  {
   "cell_type": "markdown",
   "metadata": {},
   "source": [
    "Импорт необходимых библиотек"
   ]
  },
  {
   "cell_type": "code",
   "execution_count": 12,
   "metadata": {},
   "outputs": [],
   "source": [
    "import pandas as pd\n",
    "from datetime import datetime"
   ]
  },
  {
   "cell_type": "markdown",
   "metadata": {},
   "source": [
    "Задание 1: Проверка целостности данных.  \n",
    "Используйте набор данных о продажах и проверьте, заполнены ли все необходимые поля. Если обнаружены пропущенные значения, определите, какой процент они составляют от общего количества данных. \n",
    "Набор данных для использования: \"Online Retail\" на Kaggle. Этот набор данных представляет собой транзакции, произошедшие в период с декабря 2010 по октябре 2011 года и зарегистрированные розничной компанией из Великобритании.  \n",
    "Ссылка: https://www.kaggle.com/mashlyn/online-retail-ii-uci"
   ]
  },
  {
   "cell_type": "code",
   "execution_count": 13,
   "metadata": {},
   "outputs": [
    {
     "name": "stdout",
     "output_type": "stream",
     "text": [
      "             Missing Values  Percentage\n",
      "Customer ID          243007   22.766873\n",
      "Description            4382    0.410541\n"
     ]
    }
   ],
   "source": [
    "data_task_1 = pd.read_csv('Data/online_retail_II.csv')\n",
    "\n",
    "# Переменная для количества пропущенных значений\n",
    "missing_values_counter = data_task_1.isnull().sum()\n",
    "\n",
    "# Вычисление процента пропущенных значений\n",
    "missing_values_percent = (missing_values_counter / len(data_task_1)) * 100\n",
    "\n",
    "# Формирование DataFrame\n",
    "missing_data_summary = pd.DataFrame({\n",
    "    'Missing Values': missing_values_counter,\n",
    "    'Percentage': missing_values_percent\n",
    "})\n",
    "\n",
    "# Вывод результатов анализа\n",
    "missing_data_summary = missing_data_summary[missing_data_summary['Missing Values'] > 0]  # Фильтруем только те столбцы, в которых есть пропущенные значения\n",
    "missing_data_summary.sort_values(by='Percentage', ascending=False, inplace=True)\n",
    "\n",
    "print(missing_data_summary)"
   ]
  },
  {
   "cell_type": "markdown",
   "metadata": {},
   "source": [
    "Задание 2: Проверка консистентности данных.  \n",
    "Рассмотрите набор данных о климате и проверьте, соблюдаются ли форматы дат во всех записях.  \n",
    "Набор данных для использования: \"Climate Change: Earth Surface Temperature Data\" на Kaggle.  \n",
    "Ссылка: https://www.kaggle.com/berkeleyearth/climate-change-earth-surface-temperature-data  "
   ]
  },
  {
   "cell_type": "code",
   "execution_count": 14,
   "metadata": {},
   "outputs": [
    {
     "name": "stdout",
     "output_type": "stream",
     "text": [
      "Все даты корректны по формату\n"
     ]
    }
   ],
   "source": [
    "data_task_2 = pd.read_csv('Data/GlobalLandTemperaturesByCountry.csv')\n",
    "\n",
    "# Преобразуем столбец 'dt' в формат даты и проверим на ошибки\n",
    "data_task_2['dt'] = pd.to_datetime(data_task_2['dt'], errors='coerce')\n",
    "# errors='coerce' заменит некоррентные даты на \"Not a Time\" (NaT)\n",
    "\n",
    "# Проверка, есть ли некорректные даты\n",
    "invalid_dates = data_task_2[data_task_2['dt'].isna()]\n",
    "# .isna() проверяет есть ли пропущенные/некорректные значения\n",
    "\n",
    "if invalid_dates.empty:\n",
    "    print(\"Все даты корректны по формату\")\n",
    "else:\n",
    "    print(f\"Было найдено {len(invalid_dates)} некорректных записей:\")\n",
    "    print(invalid_dates)"
   ]
  },
  {
   "cell_type": "markdown",
   "metadata": {},
   "source": [
    "Задание 3: Проверка актуальности данных.  \n",
    "Анализируя набор данных о твитах, проверьте даты публикации твитов и определите, какие из них актуальны на текущий момент.  \n",
    "Набор данных для использования: \"COVID19 Tweets\" на Kaggle, включающий твиты о пандемии COVID-19.  \n",
    "Ссылка: https://www.kaggle.com/gpreda/covid19-tweets  "
   ]
  },
  {
   "cell_type": "code",
   "execution_count": 15,
   "metadata": {},
   "outputs": [
    {
     "name": "stdout",
     "output_type": "stream",
     "text": [
      "Общее количество твитов: 179108\n",
      "Количество актуальных твитов (за последние 1500 дней): 31507\n",
      "Количество устаревших твитов: 147601\n"
     ]
    }
   ],
   "source": [
    "data_task_3 = pd.read_csv('Data/covid19_tweets.csv')\n",
    "\n",
    "# Преобразуем столбец 'dt' в формат даты и проверим на ошибки\n",
    "data_task_3['date'] = pd.to_datetime(data_task_3['date'], errors='coerce')\n",
    "# errors='coerce' заменит некоррентные даты на \"Not a Time\" (NaT)\n",
    "\n",
    "# Текущая дата\n",
    "current_date = datetime.now()\n",
    "\n",
    "# Порог актуальности\n",
    "days_value = 1500\n",
    "threshold = pd.Timedelta(days = days_value)\n",
    "\n",
    "# Какие твиты актуальны\n",
    "data_task_3['is_recent'] = (current_date - data_task_3['date']) <= threshold\n",
    "\n",
    "# Вывод результатов анализа\n",
    "recent_tweets = data_task_3[data_task_3['is_recent']]\n",
    "outdated_tweets = data_task_3[~data_task_3['is_recent']]\n",
    "\n",
    "print(f\"Общее количество твитов: {len(data_task_3)}\")\n",
    "print(f\"Количество актуальных твитов (за последние {days_value} дней): {len(recent_tweets)}\")\n",
    "print(f\"Количество устаревших твитов: {len(outdated_tweets)}\")"
   ]
  },
  {
   "cell_type": "markdown",
   "metadata": {},
   "source": [
    "Задание 4: Проверка полноты данных.  \n",
    "Рассмотрите набор данных о заболеваемости раком, проанализируйте, приведены ли данные по всем странам или некоторые из них отсутствуют.  \n",
    "Набор данных для использования: \"Global Cancer Incidence\" на Kaggle.  \n",
    "Ссылка: https://www.kaggle.com/datasets/shreyaskeote23/global-cancer-incidence"
   ]
  },
  {
   "cell_type": "code",
   "execution_count": 22,
   "metadata": {},
   "outputs": [
    {
     "name": "stdout",
     "output_type": "stream",
     "text": [
      "Список стран с неполными данными: ['Hungary']\n"
     ]
    }
   ],
   "source": [
    "data_task_4 = pd.read_csv('Data/Overall global cancer incidence (2022).csv')\n",
    "\n",
    "rows_with_missing_values = data_task_4[data_task_4.isna().any(axis=1)]\n",
    "countries = rows_with_missing_values['Country'].tolist()\n",
    "if len(countries):\n",
    "    print(f'Список стран с неполными данными: {countries}')\n",
    "else:\n",
    "    print('Данные для всех стран полные')"
   ]
  }
 ],
 "metadata": {
  "kernelspec": {
   "display_name": "Python 3",
   "language": "python",
   "name": "python3"
  },
  "language_info": {
   "codemirror_mode": {
    "name": "ipython",
    "version": 3
   },
   "file_extension": ".py",
   "mimetype": "text/x-python",
   "name": "python",
   "nbconvert_exporter": "python",
   "pygments_lexer": "ipython3",
   "version": "3.12.6"
  }
 },
 "nbformat": 4,
 "nbformat_minor": 2
}
